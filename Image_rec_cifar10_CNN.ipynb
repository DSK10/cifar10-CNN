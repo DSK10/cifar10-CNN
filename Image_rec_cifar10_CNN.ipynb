{
  "nbformat": 4,
  "nbformat_minor": 0,
  "metadata": {
    "colab": {
      "name": "Image_rec-cifar10-CNN",
      "provenance": [],
      "authorship_tag": "ABX9TyOK04FcUkW5FcckyJbpIy1a"
    },
    "kernelspec": {
      "name": "python3",
      "display_name": "Python 3"
    },
    "language_info": {
      "name": "python"
    },
    "accelerator": "GPU"
  },
  "cells": [
    {
      "cell_type": "code",
      "metadata": {
        "id": "e_tk8SQR_nDV"
      },
      "source": [
        "import tensorflow as tf"
      ],
      "execution_count": 1,
      "outputs": []
    },
    {
      "cell_type": "code",
      "metadata": {
        "colab": {
          "base_uri": "https://localhost:8080/"
        },
        "id": "TNJsXekj80ei",
        "outputId": "3273d4ad-7730-4a5e-d228-d819ff9b0b97"
      },
      "source": [
        "import keras\n",
        "from keras.datasets import cifar10\n",
        "from keras.models import Sequential\n",
        "from keras.layers import Dense, Dropout, Flatten, Conv2D, MaxPooling2D\n",
        "from pathlib import Path\n",
        "\n",
        "# Load data set\n",
        "(x_train, y_train), (x_test, y_test) = cifar10.load_data()\n",
        "\n",
        "# Normalize data set to 0-to-1 range\n",
        "x_train = x_train.astype('float32')\n",
        "x_test = x_test.astype('float32')\n",
        "x_train /= 255\n",
        "x_test /= 255\n",
        "\n",
        "# Convert class vectors to binary class matrices\n",
        "# Our labels are single values from 0 to 9.\n",
        "# Instead, we want each label to be an array with on element set to 1 and and the rest set to 0.\n",
        "y_train = tf.keras.utils.to_categorical(y_train, 10)\n",
        "y_test = tf.keras.utils.to_categorical(y_test, 10)"
      ],
      "execution_count": 2,
      "outputs": [
        {
          "output_type": "stream",
          "name": "stdout",
          "text": [
            "Downloading data from https://www.cs.toronto.edu/~kriz/cifar-10-python.tar.gz\n",
            "170500096/170498071 [==============================] - 2s 0us/step\n",
            "170508288/170498071 [==============================] - 2s 0us/step\n"
          ]
        }
      ]
    },
    {
      "cell_type": "code",
      "metadata": {
        "colab": {
          "base_uri": "https://localhost:8080/"
        },
        "id": "NjF6cog9CjVh",
        "outputId": "1b42a95d-91cc-4e6a-c6e5-e48656f21cf8"
      },
      "source": [
        "x_train.shape, 32*32*3"
      ],
      "execution_count": 3,
      "outputs": [
        {
          "output_type": "execute_result",
          "data": {
            "text/plain": [
              "((50000, 32, 32, 3), 3072)"
            ]
          },
          "metadata": {},
          "execution_count": 3
        }
      ]
    },
    {
      "cell_type": "code",
      "metadata": {
        "colab": {
          "base_uri": "https://localhost:8080/"
        },
        "id": "69F9kTEnATN0",
        "outputId": "4c668ee6-043f-49a3-8be9-cf906ce2a95e"
      },
      "source": [
        "model = None\n",
        "model = keras.models.Sequential()\n",
        "model.add(Conv2D(32, (3,3), padding=\"same\", activation=\"relu\", input_shape=(32,32,3)))\n",
        "model.add(Conv2D(32, (3,3), activation=\"relu\"))\n",
        "model.add(MaxPooling2D(pool_size=(2,2)))\n",
        "model.add(Dropout(0.25))\n",
        "\n",
        "model.add(Conv2D(64, (3,3),padding=\"same\" , activation=\"relu\"))\n",
        "model.add(Conv2D(64, (3,3), activation=\"relu\"))\n",
        "model.add(MaxPooling2D(pool_size=(2,2)))\n",
        "model.add(Dropout(0.25))\n",
        "\n",
        "model.add(Flatten())\n",
        "\n",
        "model.add(Dense(512,activation=\"relu\"))\n",
        "model.add(Dropout(0.5))\n",
        "model.add(Dense(10, activation=\"softmax\"))\n",
        "model.summary()"
      ],
      "execution_count": 4,
      "outputs": [
        {
          "output_type": "stream",
          "name": "stdout",
          "text": [
            "Model: \"sequential\"\n",
            "_________________________________________________________________\n",
            "Layer (type)                 Output Shape              Param #   \n",
            "=================================================================\n",
            "conv2d (Conv2D)              (None, 32, 32, 32)        896       \n",
            "_________________________________________________________________\n",
            "conv2d_1 (Conv2D)            (None, 30, 30, 32)        9248      \n",
            "_________________________________________________________________\n",
            "max_pooling2d (MaxPooling2D) (None, 15, 15, 32)        0         \n",
            "_________________________________________________________________\n",
            "dropout (Dropout)            (None, 15, 15, 32)        0         \n",
            "_________________________________________________________________\n",
            "conv2d_2 (Conv2D)            (None, 15, 15, 64)        18496     \n",
            "_________________________________________________________________\n",
            "conv2d_3 (Conv2D)            (None, 13, 13, 64)        36928     \n",
            "_________________________________________________________________\n",
            "max_pooling2d_1 (MaxPooling2 (None, 6, 6, 64)          0         \n",
            "_________________________________________________________________\n",
            "dropout_1 (Dropout)          (None, 6, 6, 64)          0         \n",
            "_________________________________________________________________\n",
            "flatten (Flatten)            (None, 2304)              0         \n",
            "_________________________________________________________________\n",
            "dense (Dense)                (None, 512)               1180160   \n",
            "_________________________________________________________________\n",
            "dropout_2 (Dropout)          (None, 512)               0         \n",
            "_________________________________________________________________\n",
            "dense_1 (Dense)              (None, 10)                5130      \n",
            "=================================================================\n",
            "Total params: 1,250,858\n",
            "Trainable params: 1,250,858\n",
            "Non-trainable params: 0\n",
            "_________________________________________________________________\n"
          ]
        }
      ]
    },
    {
      "cell_type": "code",
      "metadata": {
        "id": "WI0m0c_xAsT1"
      },
      "source": [
        "model.compile(optimizer=\"adam\", loss=\"categorical_crossentropy\", metrics=[\"accuracy\"])"
      ],
      "execution_count": 5,
      "outputs": []
    },
    {
      "cell_type": "code",
      "metadata": {
        "colab": {
          "base_uri": "https://localhost:8080/"
        },
        "id": "rXjaeRLrCRE0",
        "outputId": "44d09e8a-f5b9-4c26-9c46-2efff98d0e0f"
      },
      "source": [
        "history = model.fit(x_train,\n",
        "          y_train,\n",
        "          batch_size=32,\n",
        "          epochs=30,\n",
        "          validation_data=(x_test, y_test),\n",
        "          shuffle=True)"
      ],
      "execution_count": 6,
      "outputs": [
        {
          "output_type": "stream",
          "name": "stdout",
          "text": [
            "Epoch 1/30\n",
            "1563/1563 [==============================] - 47s 13ms/step - loss: 1.4747 - accuracy: 0.4632 - val_loss: 1.1006 - val_accuracy: 0.6088\n",
            "Epoch 2/30\n",
            "1563/1563 [==============================] - 20s 13ms/step - loss: 1.0918 - accuracy: 0.6153 - val_loss: 0.9160 - val_accuracy: 0.6805\n",
            "Epoch 3/30\n",
            "1563/1563 [==============================] - 19s 12ms/step - loss: 0.9420 - accuracy: 0.6676 - val_loss: 0.8425 - val_accuracy: 0.7052\n",
            "Epoch 4/30\n",
            "1563/1563 [==============================] - 20s 13ms/step - loss: 0.8507 - accuracy: 0.7004 - val_loss: 0.7954 - val_accuracy: 0.7206\n",
            "Epoch 5/30\n",
            "1563/1563 [==============================] - 19s 12ms/step - loss: 0.7890 - accuracy: 0.7233 - val_loss: 0.7472 - val_accuracy: 0.7384\n",
            "Epoch 6/30\n",
            "1563/1563 [==============================] - 19s 12ms/step - loss: 0.7433 - accuracy: 0.7365 - val_loss: 0.7460 - val_accuracy: 0.7430\n",
            "Epoch 7/30\n",
            "1563/1563 [==============================] - 19s 12ms/step - loss: 0.7084 - accuracy: 0.7506 - val_loss: 0.6793 - val_accuracy: 0.7637\n",
            "Epoch 8/30\n",
            "1563/1563 [==============================] - 19s 12ms/step - loss: 0.6717 - accuracy: 0.7662 - val_loss: 0.6782 - val_accuracy: 0.7666\n",
            "Epoch 9/30\n",
            "1563/1563 [==============================] - 19s 12ms/step - loss: 0.6437 - accuracy: 0.7739 - val_loss: 0.6721 - val_accuracy: 0.7696\n",
            "Epoch 10/30\n",
            "1563/1563 [==============================] - 20s 13ms/step - loss: 0.6162 - accuracy: 0.7818 - val_loss: 0.6883 - val_accuracy: 0.7608\n",
            "Epoch 11/30\n",
            "1563/1563 [==============================] - 20s 12ms/step - loss: 0.5976 - accuracy: 0.7884 - val_loss: 0.6450 - val_accuracy: 0.7739\n",
            "Epoch 12/30\n",
            "1563/1563 [==============================] - 19s 12ms/step - loss: 0.5778 - accuracy: 0.7969 - val_loss: 0.6669 - val_accuracy: 0.7704\n",
            "Epoch 13/30\n",
            "1563/1563 [==============================] - 20s 13ms/step - loss: 0.5634 - accuracy: 0.8012 - val_loss: 0.6530 - val_accuracy: 0.7776\n",
            "Epoch 14/30\n",
            "1563/1563 [==============================] - 19s 12ms/step - loss: 0.5443 - accuracy: 0.8081 - val_loss: 0.6429 - val_accuracy: 0.7847\n",
            "Epoch 15/30\n",
            "1563/1563 [==============================] - 19s 12ms/step - loss: 0.5397 - accuracy: 0.8102 - val_loss: 0.6737 - val_accuracy: 0.7725\n",
            "Epoch 16/30\n",
            "1563/1563 [==============================] - 20s 13ms/step - loss: 0.5264 - accuracy: 0.8154 - val_loss: 0.6430 - val_accuracy: 0.7870\n",
            "Epoch 17/30\n",
            "1563/1563 [==============================] - 19s 12ms/step - loss: 0.5143 - accuracy: 0.8213 - val_loss: 0.6326 - val_accuracy: 0.7848\n",
            "Epoch 18/30\n",
            "1563/1563 [==============================] - 19s 12ms/step - loss: 0.5049 - accuracy: 0.8226 - val_loss: 0.6387 - val_accuracy: 0.7894\n",
            "Epoch 19/30\n",
            "1563/1563 [==============================] - 19s 12ms/step - loss: 0.5011 - accuracy: 0.8232 - val_loss: 0.6142 - val_accuracy: 0.7935\n",
            "Epoch 20/30\n",
            "1563/1563 [==============================] - 19s 12ms/step - loss: 0.4951 - accuracy: 0.8265 - val_loss: 0.6280 - val_accuracy: 0.7923\n",
            "Epoch 21/30\n",
            "1563/1563 [==============================] - 19s 12ms/step - loss: 0.4773 - accuracy: 0.8334 - val_loss: 0.6335 - val_accuracy: 0.7850\n",
            "Epoch 22/30\n",
            "1563/1563 [==============================] - 19s 12ms/step - loss: 0.4758 - accuracy: 0.8336 - val_loss: 0.6656 - val_accuracy: 0.7868\n",
            "Epoch 23/30\n",
            "1563/1563 [==============================] - 19s 12ms/step - loss: 0.4705 - accuracy: 0.8337 - val_loss: 0.6436 - val_accuracy: 0.7883\n",
            "Epoch 24/30\n",
            "1563/1563 [==============================] - 20s 13ms/step - loss: 0.4578 - accuracy: 0.8399 - val_loss: 0.6427 - val_accuracy: 0.7864\n",
            "Epoch 25/30\n",
            "1563/1563 [==============================] - 19s 12ms/step - loss: 0.4575 - accuracy: 0.8395 - val_loss: 0.6338 - val_accuracy: 0.7888\n",
            "Epoch 26/30\n",
            "1563/1563 [==============================] - 19s 12ms/step - loss: 0.4554 - accuracy: 0.8417 - val_loss: 0.6505 - val_accuracy: 0.7920\n",
            "Epoch 27/30\n",
            "1563/1563 [==============================] - 19s 12ms/step - loss: 0.4481 - accuracy: 0.8422 - val_loss: 0.6491 - val_accuracy: 0.7878\n",
            "Epoch 28/30\n",
            "1563/1563 [==============================] - 19s 12ms/step - loss: 0.4366 - accuracy: 0.8464 - val_loss: 0.6590 - val_accuracy: 0.7924\n",
            "Epoch 29/30\n",
            "1563/1563 [==============================] - 19s 12ms/step - loss: 0.4305 - accuracy: 0.8486 - val_loss: 0.6466 - val_accuracy: 0.7910\n",
            "Epoch 30/30\n",
            "1563/1563 [==============================] - 19s 12ms/step - loss: 0.4284 - accuracy: 0.8510 - val_loss: 0.6382 - val_accuracy: 0.7949\n"
          ]
        }
      ]
    },
    {
      "cell_type": "code",
      "metadata": {
        "colab": {
          "base_uri": "https://localhost:8080/",
          "height": 541
        },
        "id": "mSP1KuqYLLw3",
        "outputId": "e704b016-0e00-4edf-f514-5622a89cddf4"
      },
      "source": [
        "import matplotlib.pyplot as plt\n",
        "\n",
        "\n",
        "def plot_graphs(history, string):\n",
        "  plt.plot(history.history[string])\n",
        "  plt.plot(history.history['val_'+string])\n",
        "  plt.xlabel(\"Epochs\")\n",
        "  plt.ylabel(string)\n",
        "  plt.legend([string, 'val_'+string])\n",
        "  plt.show()\n",
        "  \n",
        "plot_graphs(history, \"accuracy\")\n",
        "plot_graphs(history, \"loss\")"
      ],
      "execution_count": 7,
      "outputs": [
        {
          "output_type": "display_data",
          "data": {
            "image/png": "[encoded data removed]",
            "text/plain": [
              "<Figure size 432x288 with 1 Axes>"
            ]
          },
          "metadata": {
            "needs_background": "light"
          }
        },
        {
          "output_type": "display_data",
          "data": {
            "image/png": "[encoded data removed]",
            "text/plain": [
              "<Figure size 432x288 with 1 Axes>"
            ]
          },
          "metadata": {
            "needs_background": "light"
          }
        }
      ]
    },
    {
      "cell_type": "code",
      "metadata": {
        "colab": {
          "base_uri": "https://localhost:8080/"
        },
        "id": "oc1IqdwSCY-X",
        "outputId": "c1249603-85a9-4399-f45a-f6c7f1fb27c5"
      },
      "source": [
        "structure = model.to_json()\n",
        "f = Path(\"model_structure.json\")\n",
        "f.write_text(structure)"
      ],
      "execution_count": 8,
      "outputs": [
        {
          "output_type": "execute_result",
          "data": {
            "text/plain": [
              "4383"
            ]
          },
          "metadata": {},
          "execution_count": 8
        }
      ]
    },
    {
      "cell_type": "code",
      "metadata": {
        "id": "yQSXdUkOJjP9"
      },
      "source": [
        "model.save(\"model_weight.h5\")"
      ],
      "execution_count": 9,
      "outputs": []
    },
    {
      "cell_type": "markdown",
      "metadata": {
        "id": "XlcTjL67KL9K"
      },
      "source": [
        "# Prediction\n"
      ]
    },
    {
      "cell_type": "code",
      "metadata": {
        "id": "EJxgQU9qMzs2"
      },
      "source": [
        "from keras.models import model_from_json\n",
        "from pathlib import Path\n",
        "from keras.preprocessing import image\n",
        "import numpy as np"
      ],
      "execution_count": 10,
      "outputs": []
    },
    {
      "cell_type": "code",
      "metadata": {
        "id": "MaELTFYUKLMf"
      },
      "source": [
        "class_labels = [\n",
        "    \"Plane\",\n",
        "    \"Car\",\n",
        "    \"Bird\",\n",
        "    \"Cat\",\n",
        "    \"Deer\",\n",
        "    \"Dog\",\n",
        "    \"Frog\",\n",
        "    \"Horse\",\n",
        "    \"Boat\",\n",
        "    \"Truck\"\n",
        "]"
      ],
      "execution_count": 11,
      "outputs": []
    },
    {
      "cell_type": "code",
      "metadata": {
        "id": "mC_zOEjdMbAQ"
      },
      "source": [
        "path = Path(\"model_structure.json\")\n",
        "model_struct = path.read_text()"
      ],
      "execution_count": 12,
      "outputs": []
    },
    {
      "cell_type": "code",
      "metadata": {
        "id": "0bEOiVHGMoha"
      },
      "source": [
        "#recreate model\n",
        "p_model = model_from_json(model_struct)"
      ],
      "execution_count": 13,
      "outputs": []
    },
    {
      "cell_type": "code",
      "metadata": {
        "id": "Tp5Y0UitM91L"
      },
      "source": [
        "#reload model weight\n",
        "p_model.load_weights(\"model_weight.h5\")"
      ],
      "execution_count": 14,
      "outputs": []
    },
    {
      "cell_type": "code",
      "metadata": {
        "colab": {
          "base_uri": "https://localhost:8080/",
          "height": 49
        },
        "id": "idUAj1TuNHmd",
        "outputId": "cf6ae520-d437-4bd0-914e-1ce737e24b04"
      },
      "source": [
        "img = image.load_img(\"frog.png\", target_size=(32,32))\n",
        "img"
      ],
      "execution_count": 15,
      "outputs": [
        {
          "output_type": "execute_result",
          "data": {
            "image/png": "[encoded data removed]",
            "text/plain": [
              "<PIL.PngImagePlugin.PngImageFile image mode=RGB size=32x32 at 0x7F82EA485850>"
            ]
          },
          "metadata": {},
          "execution_count": 15
        }
      ]
    },
    {
      "cell_type": "code",
      "metadata": {
        "id": "dLnp-Gb1OAc-"
      },
      "source": [
        "img_to_test = image.img_to_array(img) / 255"
      ],
      "execution_count": 16,
      "outputs": []
    },
    {
      "cell_type": "code",
      "metadata": {
        "colab": {
          "base_uri": "https://localhost:8080/"
        },
        "id": "W22Nf4NKOMsh",
        "outputId": "302950ac-25ed-4f5d-fe3d-7536e184cd8d"
      },
      "source": [
        "list_of_images = np.expand_dims(img_to_test, axis=0)\n",
        "list_of_images.shape"
      ],
      "execution_count": 17,
      "outputs": [
        {
          "output_type": "execute_result",
          "data": {
            "text/plain": [
              "(1, 32, 32, 3)"
            ]
          },
          "metadata": {},
          "execution_count": 17
        }
      ]
    },
    {
      "cell_type": "code",
      "metadata": {
        "id": "h5qn2tZGOYRU"
      },
      "source": [
        "results = p_model.predict(list_of_images)"
      ],
      "execution_count": 18,
      "outputs": []
    },
    {
      "cell_type": "code",
      "metadata": {
        "id": "8hHY0I2iOkzi",
        "colab": {
          "base_uri": "https://localhost:8080/"
        },
        "outputId": "81e9067e-d516-4318-df10-e531c0065194"
      },
      "source": [
        "single_result = results[0]\n",
        "single_result"
      ],
      "execution_count": 19,
      "outputs": [
        {
          "output_type": "execute_result",
          "data": {
            "text/plain": [
              "array([4.2350462e-06, 3.0926574e-06, 1.8492004e-02, 1.9699575e-02,\n",
              "       1.0886534e-02, 1.9173396e-03, 9.4877648e-01, 2.0909352e-04,\n",
              "       1.2826773e-06, 1.0346019e-05], dtype=float32)"
            ]
          },
          "metadata": {},
          "execution_count": 19
        }
      ]
    },
    {
      "cell_type": "code",
      "metadata": {
        "colab": {
          "base_uri": "https://localhost:8080/"
        },
        "id": "jsi6YuBxOm0A",
        "outputId": "b5939f0f-c761-453e-fc0a-e1f0c23a936d"
      },
      "source": [
        "predicted_class_index = int(np.argmax(single_result))\n",
        "class_likelihood = single_result[predicted_class_index]\n",
        "class_likelihood\n"
      ],
      "execution_count": 20,
      "outputs": [
        {
          "output_type": "execute_result",
          "data": {
            "text/plain": [
              "0.9487765"
            ]
          },
          "metadata": {},
          "execution_count": 20
        }
      ]
    },
    {
      "cell_type": "code",
      "metadata": {
        "colab": {
          "base_uri": "https://localhost:8080/",
          "height": 37
        },
        "id": "xF4xoO3gPICq",
        "outputId": "8743acdf-c919-4349-c9e2-abc671bd1b80"
      },
      "source": [
        "class_label = class_labels[predicted_class_index]\n",
        "class_label"
      ],
      "execution_count": 21,
      "outputs": [
        {
          "output_type": "execute_result",
          "data": {
            "application/vnd.google.colaboratory.intrinsic+json": {
              "type": "string"
            },
            "text/plain": [
              "'Frog'"
            ]
          },
          "metadata": {},
          "execution_count": 21
        }
      ]
    },
    {
      "cell_type": "code",
      "metadata": {
        "id": "rmtdmkzBCz8x"
      },
      "source": [
        ""
      ],
      "execution_count": null,
      "outputs": []
    }
  ]
}